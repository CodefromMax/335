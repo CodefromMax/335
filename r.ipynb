{
 "cells": [
  {
   "cell_type": "code",
   "execution_count": null,
   "metadata": {},
   "outputs": [
    {
     "ename": "",
     "evalue": "",
     "output_type": "error",
     "traceback": [
      "\u001b[1;31mFailed to start the Kernel. \n",
      "\u001b[1;31mJupyter server crashed. Unable to connect. \n",
      "\u001b[1;31mError code from Jupyter: 1\n",
      "\u001b[1;31musage: jupyter.py [-h] [--version] [--config-dir] [--data-dir] [--runtime-dir]\n",
      "\u001b[1;31m                  [--paths] [--json] [--debug]\n",
      "\u001b[1;31m                  [subcommand]\n",
      "\u001b[1;31m\n",
      "\u001b[1;31mJupyter: Interactive Computing\n",
      "\u001b[1;31m\n",
      "\u001b[1;31mpositional arguments:\n",
      "\u001b[1;31m  subcommand     the subcommand to launch\n",
      "\u001b[1;31m\n",
      "\u001b[1;31moptions:\n",
      "\u001b[1;31m  -h, --help     show this help message and exit\n",
      "\u001b[1;31m  --version      show the versions of core jupyter packages and exit\n",
      "\u001b[1;31m  --config-dir   show Jupyter config dir\n",
      "\u001b[1;31m  --data-dir     show Jupyter data dir\n",
      "\u001b[1;31m  --runtime-dir  show Jupyter runtime dir\n",
      "\u001b[1;31m  --paths        show all Jupyter paths. Add --json for machine-readable\n",
      "\u001b[1;31m                 format.\n",
      "\u001b[1;31m  --json         output paths as machine-readable json\n",
      "\u001b[1;31m  --debug        output debug information about paths\n",
      "\u001b[1;31m\n",
      "\u001b[1;31mAvailable subcommands:\n",
      "\u001b[1;31m\n",
      "\u001b[1;31mJupyter command `jupyter-notebook` not found. \n",
      "\u001b[1;31mView Jupyter <a href='command:jupyter.viewOutput'>log</a> for further details."
     ]
    }
   ],
   "source": [
    "import numpy as np\n",
    "import math\n",
    "def MOP_Generator(n,m,J,U):\n",
    "    '''\n",
    "    n = # of items (x: 1 or 0)\n",
    "    m = # of bags (b_k is the capacity for bag k)\n",
    "    J = number of objective function\n",
    "    U upperbound for c_i and a_i_k \n",
    "    '''\n",
    "    \n",
    "    np.random.seed(12345)\n",
    "\n",
    "    c_total_list = []\n",
    "    a_total_list = []\n",
    "    b = []\n",
    "\n",
    "    for each_J in range(J):\n",
    "        c_total_list.append(np.random.randint(low=1, high=U,size = n))\n",
    "    \n",
    "    for each_k in range(m):\n",
    "        a_total_list.append(np.random.randint(low=1, high=U,size = n))\n",
    "\n",
    "    for each_k in range(m):\n",
    "        local_sum = (math.ceil((1/2)*sum(a_total_list[each_k])))\n",
    "        b.append(max(max(a_total_list[each_k]), local_sum))\n",
    "    \n",
    "\n",
    "    file = open(\"ins.txt\",\"w+\")\n",
    "    # # of items (n)\n",
    "    # file.write(str(n))\n",
    "    # for each_constraint_right_hand in b:\n",
    "    #     file.write(each_constraint_right_hand)\n",
    "\n",
    "    # for cost_coef_list in range(J):\n",
    "    #     file.write(c_total_list[cost_coef_list])\n",
    "\n",
    "    # for constraint_coef_list in range(m):\n",
    "    #     file.write(a_total_list[constraint_coef_list])\n",
    "\n",
    "    # file.close()\n",
    "\n",
    "    file.write(str(n))\n",
    "    file.write(\"\\n\")\n",
    "    for each_constraint_right_hand in b:\n",
    "        file.write(str(each_constraint_right_hand))\n",
    "        file.write(\"\\n\")\n",
    "\n",
    "    for each_coef_list in range(J):\n",
    "        \n",
    "        coef_temp = ''.join(str(c_total_list[each_coef_list].tolist()).split(','))\n",
    "        coef_temp = coef_temp.replace('[','')\n",
    "        coef_temp = coef_temp.replace(']','')\n",
    "        file.write(coef_temp)\n",
    "        file.write(\"\\n\")\n",
    "\n",
    "    for constraint_coef_list in range(m):\n",
    "        constraint_coef = ''.join(str(a_total_list[constraint_coef_list].tolist()).split(','))\n",
    "        constraint_coef = constraint_coef.replace('[','')\n",
    "        constraint_coef = constraint_coef.replace(']','')\n",
    "        file.write(constraint_coef)\n",
    "        file.write(\"\\n\")\n",
    "    file.close()\n",
    "                \n",
    "        \n",
    "\n",
    "\n",
    "\n",
    "    return c_total_list, a_total_list, b\n",
    "\n",
    "    \n",
    "\n",
    "\n",
    "\n",
    "    \n",
    "MOP_Generator(10,2,2,40)"
   ]
  },
  {
   "cell_type": "code",
   "execution_count": 94,
   "metadata": {},
   "outputs": [
    {
     "name": "stdout",
     "output_type": "stream",
     "text": [
      "[array([35, 38, 30,  2, 37, 38, 35, 30,  2, 15]), array([28, 17, 10, 12, 14, 11, 18, 19, 39,  8])]\n",
      "[array([24, 30, 32, 34, 28, 24, 37,  1,  4,  6]), array([16, 12, 15, 18,  6, 35,  9,  6, 35,  6])]\n",
      "110\n",
      "[110]\n"
     ]
    }
   ],
   "source": [
    "U = 40\n",
    "n = 10\n",
    "m = 2\n",
    "J=2\n",
    "b = []\n",
    "np.random.seed(12345)\n",
    "\n",
    "c_total_list = []\n",
    "a_total_list = []\n",
    "\n",
    "for each_J in range(J):\n",
    "    c_total_list.append(np.random.randint(low=1, high=U,size = n))\n",
    "\n",
    "for each_m in range(m):\n",
    "    a_total_list.append(np.random.randint(low=1, high=U,size = n))\n",
    "\n",
    "local_sum = (math.ceil((1/2)*sum(a_total_list[0])))\n",
    "\n",
    "b.append(max(max(a_total_list[1]), local_sum))\n",
    "print(c_total_list)\n",
    "\n",
    "print(a_total_list)\n",
    "print(local_sum)\n",
    "print(b)"
   ]
  },
  {
   "cell_type": "code",
   "execution_count": null,
   "metadata": {},
   "outputs": [],
   "source": []
  },
  {
   "cell_type": "code",
   "execution_count": 119,
   "metadata": {},
   "outputs": [
    {
     "name": "stdout",
     "output_type": "stream",
     "text": [
      "[16 12 15 18  6 35  9  6 35  6]\n",
      "[16, 12, 15, 18, 6, 35, 9, 6, 35, 6]\n",
      "16 12 15 18 6 35 9 6 35 6\n"
     ]
    }
   ],
   "source": [
    "print(str(a_total_list[1]))\n",
    "print(str(a_total_list[1].tolist()))\n",
    "\n",
    "a = a_total_list[1].tolist()\n",
    "\n",
    "b = ''.join(str(a).split(','))\n",
    "b = b.replace('[','')\n",
    "b = b.replace(']','')\n",
    "print(b)"
   ]
  },
  {
   "cell_type": "code",
   "execution_count": 121,
   "metadata": {},
   "outputs": [],
   "source": [
    "n =10\n",
    "\n",
    "file = open(\"ins.txt\",\"w+\")\n",
    "# of items (n)\n",
    "file.write(str(n))\n",
    "file.write(\"\\n\")\n",
    "for each_constraint_right_hand in b:\n",
    "    file.write(str(each_constraint_right_hand))\n",
    "    file.write(\"\\n\")\n",
    "\n",
    "for each_coef_list in range(J):\n",
    "    \n",
    "    coef_temp = ''.join(str(c_total_list[each_coef_list].tolist()).split(','))\n",
    "    coef_temp = coef_temp.replace('[','')\n",
    "    coef_temp = coef_temp.replace(']','')\n",
    "    file.write(coef_temp)\n",
    "    file.write(\"\\n\")\n",
    "\n",
    "for constraint_coef_list in range(J):\n",
    "    constraint_coef = ''.join(str(c_total_list[each_coef_list].tolist()).split(','))\n",
    "    constraint_coef = constraint_coef.replace('[','')\n",
    "    constraint_coef = constraint_coef.replace(']','')\n",
    "    file.write(constraint_coef)\n",
    "    file.write(\"\\n\")\n",
    "file.close()\n",
    "\n"
   ]
  },
  {
   "cell_type": "code",
   "execution_count": 6,
   "metadata": {},
   "outputs": [
    {
     "data": {
      "text/plain": [
       "array([2, 2, 1, 1, 2, 1, 2, 1, 1, 1])"
      ]
     },
     "execution_count": 6,
     "metadata": {},
     "output_type": "execute_result"
    }
   ],
   "source": [
    "np.random.randint(low = 1, high = 3, size = 10)\n"
   ]
  },
  {
   "attachments": {},
   "cell_type": "markdown",
   "metadata": {},
   "source": []
  }
 ],
 "metadata": {
  "kernelspec": {
   "display_name": "Python 3",
   "language": "python",
   "name": "python3"
  },
  "language_info": {
   "codemirror_mode": {
    "name": "ipython",
    "version": 3
   },
   "file_extension": ".py",
   "mimetype": "text/x-python",
   "name": "python",
   "nbconvert_exporter": "python",
   "pygments_lexer": "ipython3",
   "version": "3.10.8"
  },
  "orig_nbformat": 4,
  "vscode": {
   "interpreter": {
    "hash": "aee8b7b246df8f9039afb4144a1f6fd8d2ca17a180786b69acc140d282b71a49"
   }
  }
 },
 "nbformat": 4,
 "nbformat_minor": 2
}
